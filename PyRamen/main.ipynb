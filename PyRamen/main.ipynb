{
 "cells": [
  {
   "cell_type": "code",
   "execution_count": null,
   "id": "adc29fbb-d562-4417-85d5-de1c731289d5",
   "metadata": {},
   "outputs": [],
   "source": [
    "from pathlib import Path\n",
    "\n",
    "import csv\n",
    "import sys\n",
    "\n",
    "csvpath = Path('../menu_data.csv')\n",
    "\n",
    "#Initiate variables and lists\n",
    "count_rows = 0\n",
    "total_pnl = 0\n",
    "pnl = []\n",
    "pnl_change = []\n",
    "\n",
    "\n",
    "with open(csvpath, 'r') as csvfile:\n",
    "\n",
    "    # Pass in the csv file to the csv.reader() function\n",
    "    # (with ',' as the delmiter/separator) and return the csvreader object\n",
    "    csvreader = csv.reader(csvfile, delimiter=',')\n",
    "\n",
    "    # Read the header row first \n",
    "    csv_header = next(csvreader)\n",
    "  \n",
    "\n",
    "# Read each row of data after the header\n",
    "    for row in csvreader:\n",
    "        \n",
    "        #Calculate total profit\n",
    "        total_pnl += int(row[1])\n",
    "        \n",
    "        #append each row to pnl list\n",
    "        pnl.append(row[1])\n",
    "        \n",
    "        #count rows\n",
    "        count_rows += 1\n",
    "    "
   ]
  }
 ],
 "metadata": {
  "kernelspec": {
   "display_name": "Python 3 (ipykernel)",
   "language": "python",
   "name": "python3"
  },
  "language_info": {
   "codemirror_mode": {
    "name": "ipython",
    "version": 3
   },
   "file_extension": ".py",
   "mimetype": "text/x-python",
   "name": "python",
   "nbconvert_exporter": "python",
   "pygments_lexer": "ipython3",
   "version": "3.7.11"
  }
 },
 "nbformat": 4,
 "nbformat_minor": 5
}
