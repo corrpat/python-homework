{
 "cells": [
  {
   "cell_type": "code",
   "execution_count": 71,
   "id": "d87766c5-dd8e-4ebb-9421-4d3a33904594",
   "metadata": {},
   "outputs": [
    {
     "name": "stdout",
     "output_type": "stream",
     "text": [
      "Financial Analysis\n",
      "..............................\n",
      "There are 86 months\n",
      "Total PnL: $38382578\n",
      "Average PnL change: $-2315.12\n",
      "Greatest increase in profits: $1926159\n",
      "Greatest decrease in profits: $-2196167\n"
     ]
    }
   ],
   "source": [
    "from pathlib import Path\n",
    "\n",
    "import csv\n",
    "\n",
    "csvpath = Path('../budget_data.csv')\n",
    "\n",
    "\n",
    "count_rows = 0\n",
    "total_pnl = 0\n",
    "pnl = []\n",
    "pnl_change = []\n",
    "\n",
    "\n",
    "with open(csvpath, 'r') as csvfile:\n",
    "\n",
    "    # Pass in the csv file to the csv.reader() function\n",
    "    # (with ',' as the delmiter/separator) and return the csvreader object\n",
    "    csvreader = csv.reader(csvfile, delimiter=',')\n",
    "\n",
    "    # Read the header row first (skip this step if there is no header)\n",
    "    csv_header = next(csvreader)\n",
    "    # Print the header\n",
    "    #print(csv_header)\n",
    "\n",
    "# Read each row of data after the header\n",
    "    for row in csvreader:\n",
    "        \n",
    "        \n",
    "        total_pnl += int(row[1])\n",
    "        pnl.append(row[1])\n",
    "        \n",
    "        count_rows += 1\n",
    "    \n",
    "    for i in range(1, count_rows):\n",
    "        pnl_change.append(int(pnl[i]) - int(pnl[i-1]))\n",
    "        #print(pnl_change)\n",
    "        avg_pnl_change = sum(pnl_change)/(count_rows - 1)\n",
    "        #print(avg_pnl_change)\n",
    "        \n",
    "        max_pnl_change = max(pnl_change)\n",
    "        \n",
    "        min_pnl_change = min(pnl_change)\n",
    "            \n",
    "    #print(f\"There are {count_rows} months\")\n",
    "    #print(f\"Total PnL is {total_pnl}\")\n",
    "    #print(avg_pnl_change)\n",
    "    #print(max_pnl_change)\n",
    "    #print(min_pnl_change)      \n",
    "          \n",
    "   \n",
    "    \n",
    "print (\"Financial Analysis\")\n",
    "print(\"..............................\")\n",
    "print(f\"There are {count_rows} months\")\n",
    "print(f\"Total PnL: ${total_pnl}\")\n",
    "print(f\"Average PnL change: $\"+ str(round(avg_pnl_change,2)))\n",
    "print(f\"Greatest increase in profits: $\"+ str(max_pnl_change))\n",
    "print(f\"Greatest decrease in profits: $\"+ str(min_pnl_change)) \n",
    "\n",
    "output = Path(\"results.txt\")\n",
    "          \n"
   ]
  },
  {
   "cell_type": "code",
   "execution_count": null,
   "id": "a5757178-fad4-4799-98e6-a09f7274f96a",
   "metadata": {},
   "outputs": [],
   "source": []
  }
 ],
 "metadata": {
  "kernelspec": {
   "display_name": "Python 3 (ipykernel)",
   "language": "python",
   "name": "python3"
  },
  "language_info": {
   "codemirror_mode": {
    "name": "ipython",
    "version": 3
   },
   "file_extension": ".py",
   "mimetype": "text/x-python",
   "name": "python",
   "nbconvert_exporter": "python",
   "pygments_lexer": "ipython3",
   "version": "3.7.11"
  }
 },
 "nbformat": 4,
 "nbformat_minor": 5
}
